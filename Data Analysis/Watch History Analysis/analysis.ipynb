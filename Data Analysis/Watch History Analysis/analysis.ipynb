{
 "cells": [
  {
   "cell_type": "markdown",
   "metadata": {},
   "source": [
    "### Import Libraries"
   ]
  },
  {
   "cell_type": "code",
   "execution_count": 1,
   "metadata": {},
   "outputs": [],
   "source": [
    "import pandas as pd"
   ]
  },
  {
   "cell_type": "markdown",
   "metadata": {},
   "source": [
    "### Data Assesment & Cleaning"
   ]
  },
  {
   "cell_type": "code",
   "execution_count": 2,
   "metadata": {},
   "outputs": [
    {
     "data": {
      "text/html": [
       "<div>\n",
       "<style scoped>\n",
       "    .dataframe tbody tr th:only-of-type {\n",
       "        vertical-align: middle;\n",
       "    }\n",
       "\n",
       "    .dataframe tbody tr th {\n",
       "        vertical-align: top;\n",
       "    }\n",
       "\n",
       "    .dataframe thead th {\n",
       "        text-align: right;\n",
       "    }\n",
       "</style>\n",
       "<table border=\"1\" class=\"dataframe\">\n",
       "  <thead>\n",
       "    <tr style=\"text-align: right;\">\n",
       "      <th></th>\n",
       "      <th>header</th>\n",
       "      <th>title</th>\n",
       "      <th>titleUrl</th>\n",
       "      <th>subtitles</th>\n",
       "      <th>time</th>\n",
       "      <th>products</th>\n",
       "      <th>activityControls</th>\n",
       "      <th>details</th>\n",
       "      <th>description</th>\n",
       "    </tr>\n",
       "  </thead>\n",
       "  <tbody>\n",
       "    <tr>\n",
       "      <th>0</th>\n",
       "      <td>YouTube</td>\n",
       "      <td>Watched How to Download Your YouTube History! ...</td>\n",
       "      <td>https://www.youtube.com/watch?v=zlzzO1e6dws</td>\n",
       "      <td>[{'name': 'Scoby Tech', 'url': 'https://www.yo...</td>\n",
       "      <td>2023-07-25T19:38:46.187Z</td>\n",
       "      <td>[YouTube]</td>\n",
       "      <td>[YouTube watch history]</td>\n",
       "      <td>NaN</td>\n",
       "      <td>NaN</td>\n",
       "    </tr>\n",
       "    <tr>\n",
       "      <th>1</th>\n",
       "      <td>YouTube</td>\n",
       "      <td>Watched How to download your Youtube watch his...</td>\n",
       "      <td>https://www.youtube.com/watch?v=dto8jGMxHxY</td>\n",
       "      <td>[{'name': 'Kjell-Olov Högdahl', 'url': 'https:...</td>\n",
       "      <td>2023-07-25T19:35:49.660Z</td>\n",
       "      <td>[YouTube]</td>\n",
       "      <td>[YouTube watch history]</td>\n",
       "      <td>NaN</td>\n",
       "      <td>NaN</td>\n",
       "    </tr>\n",
       "    <tr>\n",
       "      <th>2</th>\n",
       "      <td>YouTube</td>\n",
       "      <td>Watched Telkomsel One</td>\n",
       "      <td>https://www.youtube.com/watch?v=j_n3a5KOBV4</td>\n",
       "      <td>NaN</td>\n",
       "      <td>2023-07-25T19:35:25.390Z</td>\n",
       "      <td>[YouTube]</td>\n",
       "      <td>[YouTube watch history]</td>\n",
       "      <td>[{'name': 'From Google Ads'}]</td>\n",
       "      <td>NaN</td>\n",
       "    </tr>\n",
       "    <tr>\n",
       "      <th>3</th>\n",
       "      <td>YouTube</td>\n",
       "      <td>Watched I Spent 4000 Resin for DPS CRIT KOKOMI...</td>\n",
       "      <td>https://www.youtube.com/watch?v=vLUjBkl4bgU</td>\n",
       "      <td>[{'name': 'InVain', 'url': 'https://www.youtub...</td>\n",
       "      <td>2023-07-25T19:17:14.710Z</td>\n",
       "      <td>[YouTube]</td>\n",
       "      <td>[YouTube watch history]</td>\n",
       "      <td>NaN</td>\n",
       "      <td>NaN</td>\n",
       "    </tr>\n",
       "    <tr>\n",
       "      <th>4</th>\n",
       "      <td>YouTube</td>\n",
       "      <td>Watched I Spent 5000 Resin on Alhaitham... HE'...</td>\n",
       "      <td>https://www.youtube.com/watch?v=mbiyqvOMcEk</td>\n",
       "      <td>[{'name': 'InVain', 'url': 'https://www.youtub...</td>\n",
       "      <td>2023-07-25T19:17:06.538Z</td>\n",
       "      <td>[YouTube]</td>\n",
       "      <td>[YouTube watch history]</td>\n",
       "      <td>NaN</td>\n",
       "      <td>NaN</td>\n",
       "    </tr>\n",
       "  </tbody>\n",
       "</table>\n",
       "</div>"
      ],
      "text/plain": [
       "    header                                              title   \n",
       "0  YouTube  Watched How to Download Your YouTube History! ...  \\\n",
       "1  YouTube  Watched How to download your Youtube watch his...   \n",
       "2  YouTube                              Watched Telkomsel One   \n",
       "3  YouTube  Watched I Spent 4000 Resin for DPS CRIT KOKOMI...   \n",
       "4  YouTube  Watched I Spent 5000 Resin on Alhaitham... HE'...   \n",
       "\n",
       "                                      titleUrl   \n",
       "0  https://www.youtube.com/watch?v=zlzzO1e6dws  \\\n",
       "1  https://www.youtube.com/watch?v=dto8jGMxHxY   \n",
       "2  https://www.youtube.com/watch?v=j_n3a5KOBV4   \n",
       "3  https://www.youtube.com/watch?v=vLUjBkl4bgU   \n",
       "4  https://www.youtube.com/watch?v=mbiyqvOMcEk   \n",
       "\n",
       "                                           subtitles   \n",
       "0  [{'name': 'Scoby Tech', 'url': 'https://www.yo...  \\\n",
       "1  [{'name': 'Kjell-Olov Högdahl', 'url': 'https:...   \n",
       "2                                                NaN   \n",
       "3  [{'name': 'InVain', 'url': 'https://www.youtub...   \n",
       "4  [{'name': 'InVain', 'url': 'https://www.youtub...   \n",
       "\n",
       "                       time   products         activityControls   \n",
       "0  2023-07-25T19:38:46.187Z  [YouTube]  [YouTube watch history]  \\\n",
       "1  2023-07-25T19:35:49.660Z  [YouTube]  [YouTube watch history]   \n",
       "2  2023-07-25T19:35:25.390Z  [YouTube]  [YouTube watch history]   \n",
       "3  2023-07-25T19:17:14.710Z  [YouTube]  [YouTube watch history]   \n",
       "4  2023-07-25T19:17:06.538Z  [YouTube]  [YouTube watch history]   \n",
       "\n",
       "                         details description  \n",
       "0                            NaN         NaN  \n",
       "1                            NaN         NaN  \n",
       "2  [{'name': 'From Google Ads'}]         NaN  \n",
       "3                            NaN         NaN  \n",
       "4                            NaN         NaN  "
      ]
     },
     "execution_count": 2,
     "metadata": {},
     "output_type": "execute_result"
    }
   ],
   "source": [
    "df = pd.read_json('./watch-history.json')\n",
    "df.head()"
   ]
  },
  {
   "cell_type": "code",
   "execution_count": 3,
   "metadata": {},
   "outputs": [
    {
     "data": {
      "text/plain": [
       "(10661, 9)"
      ]
     },
     "execution_count": 3,
     "metadata": {},
     "output_type": "execute_result"
    }
   ],
   "source": [
    "df.shape"
   ]
  },
  {
   "cell_type": "code",
   "execution_count": 4,
   "metadata": {},
   "outputs": [
    {
     "data": {
      "text/html": [
       "<div>\n",
       "<style scoped>\n",
       "    .dataframe tbody tr th:only-of-type {\n",
       "        vertical-align: middle;\n",
       "    }\n",
       "\n",
       "    .dataframe tbody tr th {\n",
       "        vertical-align: top;\n",
       "    }\n",
       "\n",
       "    .dataframe thead th {\n",
       "        text-align: right;\n",
       "    }\n",
       "</style>\n",
       "<table border=\"1\" class=\"dataframe\">\n",
       "  <thead>\n",
       "    <tr style=\"text-align: right;\">\n",
       "      <th></th>\n",
       "      <th>header</th>\n",
       "      <th>title</th>\n",
       "      <th>titleUrl</th>\n",
       "      <th>subtitles</th>\n",
       "      <th>time</th>\n",
       "      <th>products</th>\n",
       "      <th>activityControls</th>\n",
       "      <th>details</th>\n",
       "    </tr>\n",
       "  </thead>\n",
       "  <tbody>\n",
       "    <tr>\n",
       "      <th>0</th>\n",
       "      <td>YouTube</td>\n",
       "      <td>Watched How to Download Your YouTube History! ...</td>\n",
       "      <td>https://www.youtube.com/watch?v=zlzzO1e6dws</td>\n",
       "      <td>[{'name': 'Scoby Tech', 'url': 'https://www.yo...</td>\n",
       "      <td>2023-07-25T19:38:46.187Z</td>\n",
       "      <td>[YouTube]</td>\n",
       "      <td>[YouTube watch history]</td>\n",
       "      <td>NaN</td>\n",
       "    </tr>\n",
       "    <tr>\n",
       "      <th>1</th>\n",
       "      <td>YouTube</td>\n",
       "      <td>Watched How to download your Youtube watch his...</td>\n",
       "      <td>https://www.youtube.com/watch?v=dto8jGMxHxY</td>\n",
       "      <td>[{'name': 'Kjell-Olov Högdahl', 'url': 'https:...</td>\n",
       "      <td>2023-07-25T19:35:49.660Z</td>\n",
       "      <td>[YouTube]</td>\n",
       "      <td>[YouTube watch history]</td>\n",
       "      <td>NaN</td>\n",
       "    </tr>\n",
       "    <tr>\n",
       "      <th>2</th>\n",
       "      <td>YouTube</td>\n",
       "      <td>Watched Telkomsel One</td>\n",
       "      <td>https://www.youtube.com/watch?v=j_n3a5KOBV4</td>\n",
       "      <td>NaN</td>\n",
       "      <td>2023-07-25T19:35:25.390Z</td>\n",
       "      <td>[YouTube]</td>\n",
       "      <td>[YouTube watch history]</td>\n",
       "      <td>[{'name': 'From Google Ads'}]</td>\n",
       "    </tr>\n",
       "    <tr>\n",
       "      <th>3</th>\n",
       "      <td>YouTube</td>\n",
       "      <td>Watched I Spent 4000 Resin for DPS CRIT KOKOMI...</td>\n",
       "      <td>https://www.youtube.com/watch?v=vLUjBkl4bgU</td>\n",
       "      <td>[{'name': 'InVain', 'url': 'https://www.youtub...</td>\n",
       "      <td>2023-07-25T19:17:14.710Z</td>\n",
       "      <td>[YouTube]</td>\n",
       "      <td>[YouTube watch history]</td>\n",
       "      <td>NaN</td>\n",
       "    </tr>\n",
       "    <tr>\n",
       "      <th>4</th>\n",
       "      <td>YouTube</td>\n",
       "      <td>Watched I Spent 5000 Resin on Alhaitham... HE'...</td>\n",
       "      <td>https://www.youtube.com/watch?v=mbiyqvOMcEk</td>\n",
       "      <td>[{'name': 'InVain', 'url': 'https://www.youtub...</td>\n",
       "      <td>2023-07-25T19:17:06.538Z</td>\n",
       "      <td>[YouTube]</td>\n",
       "      <td>[YouTube watch history]</td>\n",
       "      <td>NaN</td>\n",
       "    </tr>\n",
       "  </tbody>\n",
       "</table>\n",
       "</div>"
      ],
      "text/plain": [
       "    header                                              title   \n",
       "0  YouTube  Watched How to Download Your YouTube History! ...  \\\n",
       "1  YouTube  Watched How to download your Youtube watch his...   \n",
       "2  YouTube                              Watched Telkomsel One   \n",
       "3  YouTube  Watched I Spent 4000 Resin for DPS CRIT KOKOMI...   \n",
       "4  YouTube  Watched I Spent 5000 Resin on Alhaitham... HE'...   \n",
       "\n",
       "                                      titleUrl   \n",
       "0  https://www.youtube.com/watch?v=zlzzO1e6dws  \\\n",
       "1  https://www.youtube.com/watch?v=dto8jGMxHxY   \n",
       "2  https://www.youtube.com/watch?v=j_n3a5KOBV4   \n",
       "3  https://www.youtube.com/watch?v=vLUjBkl4bgU   \n",
       "4  https://www.youtube.com/watch?v=mbiyqvOMcEk   \n",
       "\n",
       "                                           subtitles   \n",
       "0  [{'name': 'Scoby Tech', 'url': 'https://www.yo...  \\\n",
       "1  [{'name': 'Kjell-Olov Högdahl', 'url': 'https:...   \n",
       "2                                                NaN   \n",
       "3  [{'name': 'InVain', 'url': 'https://www.youtub...   \n",
       "4  [{'name': 'InVain', 'url': 'https://www.youtub...   \n",
       "\n",
       "                       time   products         activityControls   \n",
       "0  2023-07-25T19:38:46.187Z  [YouTube]  [YouTube watch history]  \\\n",
       "1  2023-07-25T19:35:49.660Z  [YouTube]  [YouTube watch history]   \n",
       "2  2023-07-25T19:35:25.390Z  [YouTube]  [YouTube watch history]   \n",
       "3  2023-07-25T19:17:14.710Z  [YouTube]  [YouTube watch history]   \n",
       "4  2023-07-25T19:17:06.538Z  [YouTube]  [YouTube watch history]   \n",
       "\n",
       "                         details  \n",
       "0                            NaN  \n",
       "1                            NaN  \n",
       "2  [{'name': 'From Google Ads'}]  \n",
       "3                            NaN  \n",
       "4                            NaN  "
      ]
     },
     "execution_count": 4,
     "metadata": {},
     "output_type": "execute_result"
    }
   ],
   "source": [
    "df.drop(['description'], axis=1, inplace=True)\n",
    "df.head()"
   ]
  },
  {
   "cell_type": "code",
   "execution_count": 5,
   "metadata": {},
   "outputs": [
    {
     "data": {
      "text/plain": [
       "header                  0\n",
       "title                   0\n",
       "titleUrl               58\n",
       "subtitles             249\n",
       "time                    0\n",
       "products                0\n",
       "activityControls        0\n",
       "details             10587\n",
       "dtype: int64"
      ]
     },
     "execution_count": 5,
     "metadata": {},
     "output_type": "execute_result"
    }
   ],
   "source": [
    "df.isnull().sum()"
   ]
  },
  {
   "cell_type": "code",
   "execution_count": 15,
   "metadata": {},
   "outputs": [],
   "source": [
    "df['title'] = df['title'].apply(lambda x: x.replace('Watched ', ''))"
   ]
  },
  {
   "cell_type": "code",
   "execution_count": 16,
   "metadata": {},
   "outputs": [
    {
     "data": {
      "text/plain": [
       "0        How to Download Your YouTube History! Download...\n",
       "1               How to download your Youtube watch history\n",
       "2                                            Telkomsel One\n",
       "3        I Spent 4000 Resin for DPS CRIT KOKOMI (Genshi...\n",
       "4        I Spent 5000 Resin on Alhaitham... HE'S INSANE...\n",
       "                               ...                        \n",
       "10656                mina elegant sneeze vs momo EXPLOSION\n",
       "10657        Donating to Streamers ONLY if they do THIS...\n",
       "10658      CHAEYOUNG TV “Strawberry Santa Claus CHAEYOUNG”\n",
       "10659               I watched a 10 MMR Ogre ascend reality\n",
       "10660      MINA \"Snowman\" Melody Project Behind the Scenes\n",
       "Name: title, Length: 10661, dtype: object"
      ]
     },
     "execution_count": 16,
     "metadata": {},
     "output_type": "execute_result"
    }
   ],
   "source": [
    "df['title']"
   ]
  }
 ],
 "metadata": {
  "kernelspec": {
   "display_name": "Python 3",
   "language": "python",
   "name": "python3"
  },
  "language_info": {
   "codemirror_mode": {
    "name": "ipython",
    "version": 3
   },
   "file_extension": ".py",
   "mimetype": "text/x-python",
   "name": "python",
   "nbconvert_exporter": "python",
   "pygments_lexer": "ipython3",
   "version": "3.10.6"
  },
  "orig_nbformat": 4
 },
 "nbformat": 4,
 "nbformat_minor": 2
}
